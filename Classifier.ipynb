{
  "cells": [
    {
      "cell_type": "markdown",
      "id": "d9aedd95",
      "metadata": {
        "id": "d9aedd95"
      },
      "source": [
        "# Importing all required libraries and processing given dataset"
      ]
    },
    {
      "cell_type": "code",
      "execution_count": null,
      "id": "d00d5cf3",
      "metadata": {
        "id": "d00d5cf3"
      },
      "outputs": [],
      "source": [
        "from sklearn.linear_model import SGDClassifier\n",
        "from sklearn.model_selection import StratifiedKFold, train_test_split, cross_val_score, GridSearchCV\n",
        "from sklearn.base import clone\n",
        "from sklearn.neighbors import KNeighborsClassifier\n",
        "from sklearn.ensemble import RandomForestClassifier, GradientBoostingClassifier\n",
        "from xgboost import XGBClassifier\n",
        "from sklearn.preprocessing import StandardScaler\n",
        "from sklearn.metrics import accuracy_score, classification_report\n",
        "from sklearn.ensemble import VotingClassifier\n",
        "from sklearn.svm import SVC\n",
        "\n",
        "import pandas as pd\n",
        "import numpy as np\n",
        "\n",
        "data = pd.read_csv('kepler-tess.csv').dropna()\n",
        "#disposition as target variable\n",
        "y = data.pop('disp')\n",
        "X = data\n",
        "\n",
        "#train-test split\n",
        "X_train, X_test, y_train, y_test = train_test_split(X, y, test_size=0.2, random_state=42)\n",
        "\n",
        "#feature scaling\n",
        "scaler = StandardScaler()\n",
        "\n",
        "X_train = scaler.fit_transform(X_train)\n",
        "X_test = scaler.transform(X_test)"
      ]
    },
    {
      "cell_type": "code",
      "execution_count": 16,
      "id": "65d4ab34",
      "metadata": {
        "id": "65d4ab34"
      },
      "outputs": [],
      "source": [
        "knn = KNeighborsClassifier(n_neighbors=23)\n",
        "rf = RandomForestClassifier(n_estimators=200, random_state=42)\n",
        "xgb = XGBClassifier(n_estimators=200, learning_rate=0.1, max_depth=8)\n",
        "sgd = SGDClassifier()\n",
        "svm = SVC(kernel='rbf', C=1.0, gamma=0.1, probability=True)\n",
        "\n",
        "gbc = GradientBoostingClassifier(n_estimators=200, learning_rate=0.1, max_depth=8)\n",
        "\n",
        "\n",
        "model = VotingClassifier(\n",
        "    estimators=[('xgb', xgb), ('gbc', gbc)],\n",
        "    voting='hard'\n",
        ")"
      ]
    },
    {
      "cell_type": "markdown",
      "id": "kRlzXlY7epnP",
      "metadata": {
        "id": "kRlzXlY7epnP"
      },
      "source": [
        "# Model tuning through GridSearchCV"
      ]
    },
    {
      "cell_type": "code",
      "execution_count": 7,
      "id": "vmxwJOSio-64",
      "metadata": {
        "colab": {
          "base_uri": "https://localhost:8080/"
        },
        "id": "vmxwJOSio-64",
        "outputId": "fcd3efbc-bece-4fb7-b788-e06ad55575de"
      },
      "outputs": [
        {
          "name": "stdout",
          "output_type": "stream",
          "text": [
            "After tuning:  0.7839370078740158\n"
          ]
        }
      ],
      "source": [
        "#XGBClassifier tuning\n",
        "xgb_param_grid = {\n",
        "    'n_estimators':[50, 100, 150, 200],\n",
        "    'learning_rate':[0.1, 0.05, 0.01],\n",
        "    'max_depth':[3, 5, 8, 10]\n",
        "}\n",
        "\n",
        "grid_search = GridSearchCV(\n",
        "    estimator=xgb,\n",
        "    param_grid=xgb_param_grid,\n",
        "    cv=5,              # 5-fold CV\n",
        "    scoring='accuracy', # Metric to optimize\n",
        "    n_jobs=-1\n",
        ")\n",
        "grid_search.fit(X_train, y_train)\n",
        "grid_predict = grid_search.predict(X_test)\n",
        "print('After tuning: ', accuracy_score(y_test, grid_predict))"
      ]
    },
    {
      "cell_type": "code",
      "execution_count": 3,
      "id": "7SRdx5iveoqC",
      "metadata": {
        "colab": {
          "base_uri": "https://localhost:8080/"
        },
        "id": "7SRdx5iveoqC",
        "outputId": "00a29e29-eda2-4506-cf93-1e22118c7b23"
      },
      "outputs": [
        {
          "name": "stdout",
          "output_type": "stream",
          "text": [
            "After tuning:  0.7899212598425197\n"
          ]
        }
      ],
      "source": [
        "#GradientBoostingClassifier tuning\n",
        "gbc_param_grid = {\n",
        "    'n_estimators': [10, 100, 200],\n",
        "    'max_depth': [3, 5, 8],\n",
        "    'learning_rate': [0.1, 0.05, 0.01]\n",
        "}\n",
        "\n",
        "grid_search = GridSearchCV(\n",
        "    estimator=gbc,\n",
        "    param_grid=gbc_param_grid,\n",
        "    cv=5,              # 5-fold CV\n",
        "    scoring='accuracy', # Metric to optimize\n",
        "    n_jobs=-1\n",
        ")\n",
        "grid_search.fit(X_train, y_train)\n",
        "grid_predict = grid_search.predict(X_test)\n",
        "print('After tuning: ', accuracy_score(y_test, grid_predict))"
      ]
    },
    {
      "cell_type": "markdown",
      "id": "MY54lFUHyt-3",
      "metadata": {
        "id": "MY54lFUHyt-3"
      },
      "source": [
        "# Studying the metrics of trained models"
      ]
    },
    {
      "cell_type": "code",
      "execution_count": 21,
      "id": "fAUhB3Zia8m-",
      "metadata": {
        "colab": {
          "base_uri": "https://localhost:8080/"
        },
        "id": "fAUhB3Zia8m-",
        "outputId": "fb2cf605-993c-4787-d887-2718fdfdb0d1"
      },
      "outputs": [
        {
          "name": "stdout",
          "output_type": "stream",
          "text": [
            "XGB report               precision    recall  f1-score   support\n",
            "\n",
            "           0       0.79      0.65      0.71      1312\n",
            "           1       0.78      0.88      0.83      1863\n",
            "\n",
            "    accuracy                           0.78      3175\n",
            "   macro avg       0.78      0.76      0.77      3175\n",
            "weighted avg       0.78      0.78      0.78      3175\n",
            "\n"
          ]
        }
      ],
      "source": [
        "xgb.fit(X_train, y_train)\n",
        "xgb_pred = xgb.predict(X_test)\n",
        "print(\"XGB report\", classification_report(y_test, xgb_pred))"
      ]
    },
    {
      "cell_type": "code",
      "execution_count": 23,
      "id": "4cc890d1",
      "metadata": {
        "colab": {
          "base_uri": "https://localhost:8080/"
        },
        "id": "4cc890d1",
        "outputId": "eef39903-73ed-40db-e851-4153f81db0fb"
      },
      "outputs": [
        {
          "name": "stdout",
          "output_type": "stream",
          "text": [
            "Gradient Boosting Classifier report               precision    recall  f1-score   support\n",
            "\n",
            "           0       0.80      0.66      0.72      1312\n",
            "           1       0.79      0.88      0.83      1863\n",
            "\n",
            "    accuracy                           0.79      3175\n",
            "   macro avg       0.79      0.77      0.78      3175\n",
            "weighted avg       0.79      0.79      0.79      3175\n",
            "\n"
          ]
        }
      ],
      "source": [
        "gbc.fit(X_train, y_train)\n",
        "gbc_pred = gbc.predict(X_test)\n",
        "print(\"Gradient Boosting Classifier report\", classification_report(y_test, gbc_pred))"
      ]
    },
    {
      "cell_type": "code",
      "execution_count": 22,
      "id": "hmtQQxmLbHrY",
      "metadata": {
        "colab": {
          "base_uri": "https://localhost:8080/"
        },
        "id": "hmtQQxmLbHrY",
        "outputId": "f8255a05-9651-4fa1-fc48-2f62bb5c17df"
      },
      "outputs": [
        {
          "name": "stdout",
          "output_type": "stream",
          "text": [
            "RF report               precision    recall  f1-score   support\n",
            "\n",
            "           0       0.80      0.65      0.72      1312\n",
            "           1       0.78      0.89      0.83      1863\n",
            "\n",
            "    accuracy                           0.79      3175\n",
            "   macro avg       0.79      0.77      0.77      3175\n",
            "weighted avg       0.79      0.79      0.78      3175\n",
            "\n"
          ]
        }
      ],
      "source": [
        "rf.fit(X_train, y_train)\n",
        "rf_pred = rf.predict(X_test)\n",
        "print(\"RF report\", classification_report(y_test, rf_pred))"
      ]
    },
    {
      "cell_type": "code",
      "execution_count": 17,
      "id": "34ca13da",
      "metadata": {
        "colab": {
          "base_uri": "https://localhost:8080/"
        },
        "id": "34ca13da",
        "outputId": "0329bbb4-c638-44e4-f3a4-2addb56b63a3"
      },
      "outputs": [
        {
          "name": "stdout",
          "output_type": "stream",
          "text": [
            "Report:               precision    recall  f1-score   support\n",
            "\n",
            "           0       0.76      0.70      0.73      1312\n",
            "           1       0.80      0.84      0.82      1863\n",
            "\n",
            "    accuracy                           0.78      3175\n",
            "   macro avg       0.78      0.77      0.77      3175\n",
            "weighted avg       0.78      0.78      0.78      3175\n",
            "\n"
          ]
        }
      ],
      "source": [
        "model.fit(X_train, y_train)\n",
        "model_pred = model.predict(X_test)\n",
        "print(f\"Report:\", classification_report(y_test, model_pred))"
      ]
    }
  ],
  "metadata": {
    "accelerator": "GPU",
    "colab": {
      "gpuType": "T4",
      "provenance": []
    },
    "kernelspec": {
      "display_name": "Python 3",
      "name": "python3"
    },
    "language_info": {
      "codemirror_mode": {
        "name": "ipython",
        "version": 3
      },
      "file_extension": ".py",
      "mimetype": "text/x-python",
      "name": "python",
      "nbconvert_exporter": "python",
      "pygments_lexer": "ipython3",
      "version": "3.13.7"
    }
  },
  "nbformat": 4,
  "nbformat_minor": 5
}
